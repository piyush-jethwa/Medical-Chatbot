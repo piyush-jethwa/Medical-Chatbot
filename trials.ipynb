{
 "cells": [
  {
   "cell_type": "code",
   "execution_count": 1,
   "id": "f2d14615",
   "metadata": {},
   "outputs": [
    {
     "name": "stdout",
     "output_type": "stream",
     "text": [
      "OK\n"
     ]
    }
   ],
   "source": [
    "print(\"OK\")"
   ]
  },
  {
   "cell_type": "code",
   "execution_count": 18,
   "id": "e83bbec1",
   "metadata": {},
   "outputs": [],
   "source": [
    "from langchain import PromptTemplate\n",
    "from langchain.chains import RetrievalQA\n",
    "from langchain.embeddings import HuggingFaceEmbeddings\n",
    "from langchain.vectorstores import Pinecone\n",
    "import pinecone  \n",
    "from langchain.document_loaders import PyPDFLoader,DirectoryLoader\n",
    "from langchain.text_splitter import RecursiveCharacterTextSplitter\n",
    "from langchain.prompts import PromptTemplate\n",
    "from langchain.llms import CTransformers\n"
   ]
  },
  {
   "cell_type": "code",
   "execution_count": 19,
   "id": "9eb4dc99",
   "metadata": {},
   "outputs": [],
   "source": [
    "PINECONE_API_KEY= \"pcsk_45Vras_DPA8Tq9ED1ya9akhmiRQoTN8omYFZHqkWoVj8LGPpXxpAC6g3G1fAn9q4NbihYw\"\n",
    "PINECONE_API_KEY= \"https://medical-chatbot-2nr9pbf.svc.aped-4627-b74a.pinecone.io\""
   ]
  },
  {
   "cell_type": "code",
   "execution_count": 21,
   "id": "a856d435",
   "metadata": {},
   "outputs": [],
   "source": [
    "#Rxtract the data from the pdf\n",
    "def load_pdf(data):\n",
    "    DirectoryLoader(data,\n",
    "                    glob=\"*.pdf\",\n",
    "                    loader_cls=PyPDFLoader)\n",
    "    documments = loader.load()\n",
    "\n",
    "    return documments\n"
   ]
  },
  {
   "cell_type": "code",
   "execution_count": null,
   "id": "b9ed54d9",
   "metadata": {},
   "outputs": [],
   "source": []
  }
 ],
 "metadata": {
  "kernelspec": {
   "display_name": "Python 3",
   "language": "python",
   "name": "python3"
  },
  "language_info": {
   "codemirror_mode": {
    "name": "ipython",
    "version": 3
   },
   "file_extension": ".py",
   "mimetype": "text/x-python",
   "name": "python",
   "nbconvert_exporter": "python",
   "pygments_lexer": "ipython3",
   "version": "3.8.20"
  }
 },
 "nbformat": 4,
 "nbformat_minor": 5
}
